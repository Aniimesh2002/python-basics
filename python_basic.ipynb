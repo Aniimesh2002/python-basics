{
  "nbformat": 4,
  "nbformat_minor": 0,
  "metadata": {
    "colab": {
      "provenance": []
    },
    "kernelspec": {
      "name": "python3",
      "display_name": "Python 3"
    },
    "language_info": {
      "name": "python"
    }
  },
  "cells": [
    {
      "cell_type": "code",
      "execution_count": null,
      "metadata": {
        "id": "52MfADQfpMz7"
      },
      "outputs": [],
      "source": []
    },
    {
      "cell_type": "markdown",
      "source": [
        "#python basics\n"
      ],
      "metadata": {
        "id": "IyLA9u8Xr2qN"
      }
    },
    {
      "cell_type": "markdown",
      "source": [
        " 1.What is Python, and why is it popular\n",
        "\n",
        "    >>Python is a high-level, interpreted programming language known for its readability and flexibility. Its popularity stems from an extensive ecosystem, ease of learning, large community support, and vast application areas—ranging from web development to AI and data science.\n",
        "2. What is an interpreter in Python\n",
        "\n",
        "    >>The Python interpreter reads and executes Python code line by line, rather than compiling it entirely beforehand. This allows for quick debugging and prototyping.\n",
        "\n",
        "3. What are pre-defined keywords in Python\n",
        "\n",
        "  >>These are reserved words with specific meanings in Python, such as if, else, for, while, def, and class. They cannot be used for variable names.\n",
        "\n",
        "4. Can keywords be used as variable names\n",
        "\n",
        "  >>No, keywords are reserved and cannot be assigned as variable names. Using a keyword as a variable name would result in a syntax error.\n",
        "\n",
        "5. What is mutability in Python\n",
        "\n",
        "  >>Mutability refers to whether an object's state can be changed after creation. Mutable objects (like lists) can be modified, while immutable objects (like tuples and strings) cannot be changed once assigned.\n",
        "\n",
        "6. Why are lists mutable, but tuples are immutable\n",
        "\n",
        "  >>Lists allow modifications, which make them flexible for dynamic data handling. Tuples, being immutable, ensure data integrity and hashability, making them suitable for fixed sets of values.\n",
        "\n",
        "7. What is the difference between “==” and “is” operators in Python\n",
        "\n",
        "  >> \"==\" checks for value equality, meaning whether two objects have the same content.\n",
        "\n",
        "  \"is\" checks for identity equality, meaning whether two objects occupy the same memory location.\n",
        "\n",
        "\n",
        "8. What are logical operators in Python\n",
        "\n",
        "  >> Logical operators help in conditional expressions:\n",
        " ..and (returns True if both conditions are True)\n",
        " ..or (returns True if at least one condition is True)\n",
        " ..not (negates a Boolean expression)\n",
        "\n",
        "9. What is type casting in Python\n",
        "\n",
        " >>Type casting means converting one data type to another.\n",
        " example:\n",
        "      a = int(\"5\")  # string to integer\n",
        "\n",
        "10. What is the difference between implicit and explicit type casting\n",
        "\n",
        " >> Implicit Casting:\n",
        " Python automatically converts types where safe (e.g., integer to float).\n",
        " Explicit Casting:\n",
        "  Manual conversion using functions like int(), float(), or str().\n",
        "\n",
        "11. What is the purpose of conditional statements in Python?\n",
        "  >> Conditional statements like if-else help in decision-making, enabling a program to execute different logic based on conditions.\n",
        "\n",
        "12. How does the elif statement work\n",
        "\n",
        " >> elif (short for \"else if\") allows multiple conditions to be checked sequentially, preventing redundant if-else nesting.\n",
        "\n",
        "13. What is the difference between for and while loops\n",
        "\n",
        " >>  For loop:\n",
        " Iterates over a sequence or range, ideal for known iteration counts.\n",
        "  While loop:\n",
        "Runs as long as a condition remains True, useful for situations with uncertain iteration counts.\n",
        "\n",
        "14. Describe a scenario where a while loop is more suitable than a for loop\n",
        "\n",
        " >>A while loop is preferable when iterations depend on dynamic conditions, such as waiting for user input or continuously checking sensor data until a threshold is reached."
      ],
      "metadata": {
        "id": "Et_POMhSr-iM"
      }
    },
    {
      "cell_type": "code",
      "source": [
        "# 1. Write a Python program to print \"Hello, World!\"\n",
        "print(\"Hello, World!\")\n"
      ],
      "metadata": {
        "colab": {
          "base_uri": "https://localhost:8080/"
        },
        "id": "NEFbSgNkxElh",
        "outputId": "b25ded38-1d1e-45fa-ce0b-c20c7cf4cab4"
      },
      "execution_count": 2,
      "outputs": [
        {
          "output_type": "stream",
          "name": "stdout",
          "text": [
            "Hello, World!\n"
          ]
        }
      ]
    },
    {
      "cell_type": "code",
      "source": [
        "# 2.Write a Python program that displays your name and age\n",
        "name = \"Animesh\"\n",
        "age = 25\n",
        "print(\"Name:\", name)\n",
        "print(\"Age:\", age)\n"
      ],
      "metadata": {
        "colab": {
          "base_uri": "https://localhost:8080/"
        },
        "id": "RYYRu5Dox7At",
        "outputId": "6afbf159-d67a-4281-97a3-19540333e4b5"
      },
      "execution_count": 3,
      "outputs": [
        {
          "output_type": "stream",
          "name": "stdout",
          "text": [
            "Name: Animesh\n",
            "Age: 25\n"
          ]
        }
      ]
    },
    {
      "cell_type": "code",
      "source": [
        "#3.Write code to print all the pre-defined keywords in Python using the keyword library\n",
        "import keyword\n",
        "print(\"Python keywords are:\")\n",
        "print(keyword.kwlist)\n"
      ],
      "metadata": {
        "colab": {
          "base_uri": "https://localhost:8080/"
        },
        "id": "pJHYFXZjyHm_",
        "outputId": "3c25640e-4e20-46f7-da46-ad4807c27ff2"
      },
      "execution_count": 4,
      "outputs": [
        {
          "output_type": "stream",
          "name": "stdout",
          "text": [
            "Python keywords are:\n",
            "['False', 'None', 'True', 'and', 'as', 'assert', 'async', 'await', 'break', 'class', 'continue', 'def', 'del', 'elif', 'else', 'except', 'finally', 'for', 'from', 'global', 'if', 'import', 'in', 'is', 'lambda', 'nonlocal', 'not', 'or', 'pass', 'raise', 'return', 'try', 'while', 'with', 'yield']\n"
          ]
        }
      ]
    },
    {
      "cell_type": "code",
      "source": [
        "#4.Write a program that checks if a given word is a Python keyword.\n",
        "import keyword\n",
        "\n",
        "word = input(\"Enter a word: \")\n",
        "if keyword.iskeyword(word):\n",
        "    print(f\"'{word}' is a Python keyword.\")\n",
        "else:\n",
        "    print(f\"'{word}' is not a Python keyword.\")\n"
      ],
      "metadata": {
        "colab": {
          "base_uri": "https://localhost:8080/"
        },
        "id": "TluNzHkRyHKZ",
        "outputId": "b90ff6a2-f254-4bd4-8f92-6fe289e02ea5"
      },
      "execution_count": 5,
      "outputs": [
        {
          "output_type": "stream",
          "name": "stdout",
          "text": [
            "Enter a word: def\n",
            "'def' is a Python keyword.\n"
          ]
        }
      ]
    },
    {
      "cell_type": "code",
      "source": [
        "#5. Create a list and tuple in Python, and demonstrate how attempting to change an element works differently\n",
        "#for each.\n",
        "\n",
        "# Creating a list and a tuple\n",
        "my_list = [10, 20, 30]\n",
        "my_tuple = (10, 20, 30)\n",
        "\n",
        "# Modifying an element in the list\n",
        "print(\"Original list:\", my_list)\n",
        "my_list[1] = 200\n",
        "print(\"Modified list:\", my_list)\n",
        "\n",
        "# Attempting to modify an element in the tuple\n",
        "print(\"Original tuple:\", my_tuple)\n",
        "try:\n",
        "    my_tuple[1] = 200  # This will raise an error\n",
        "except TypeError as e:\n",
        "    print(\"Error while modifying tuple:\", e)\n"
      ],
      "metadata": {
        "colab": {
          "base_uri": "https://localhost:8080/"
        },
        "id": "_d2oVDWV4cNZ",
        "outputId": "de404703-b9e9-4591-cc62-fe77ae85148a"
      },
      "execution_count": 19,
      "outputs": [
        {
          "output_type": "stream",
          "name": "stdout",
          "text": [
            "Original list: [10, 20, 30]\n",
            "Modified list: [10, 200, 30]\n",
            "Original tuple: (10, 20, 30)\n",
            "Error while modifying tuple: 'tuple' object does not support item assignment\n"
          ]
        }
      ]
    },
    {
      "cell_type": "code",
      "source": [
        "#6.Create a list and tuple in Python, and demonstrate how attempting to change an element works differently\n",
        "#for each.\n",
        "def modify_list(lst):\n",
        "    lst.append(100)  # Mutable object gets changed\n",
        "\n",
        "def modify_int(n):\n",
        "    n += 10  # Immutable, original remains unchanged\n",
        "\n",
        "my_list = [1, 2, 3]\n",
        "my_num = 10\n",
        "\n",
        "modify_list(my_list)\n",
        "modify_int(my_num)\n",
        "\n",
        "print(\"List after function:\", my_list)  # [1, 2, 3, 100]\n",
        "print(\"Integer after function:\", my_num)  # 10\n"
      ],
      "metadata": {
        "colab": {
          "base_uri": "https://localhost:8080/"
        },
        "id": "6wQaZdbFyGrG",
        "outputId": "3ee17bb8-fdca-4c0d-852c-725f5c5f633a"
      },
      "execution_count": 6,
      "outputs": [
        {
          "output_type": "stream",
          "name": "stdout",
          "text": [
            "List after function: [1, 2, 3, 100]\n",
            "Integer after function: 10\n"
          ]
        }
      ]
    },
    {
      "cell_type": "code",
      "source": [
        "#7.Write a program that performs basic arithmetic operations on two user-input numbers.\n",
        "a = float(input(\"Enter first number: \"))\n",
        "b = float(input(\"Enter second number: \"))\n",
        "\n",
        "print(\"Addition:\", a + b)\n",
        "print(\"Subtraction:\", a - b)\n",
        "print(\"Multiplication:\", a * b)\n",
        "print(\"Division:\", a / b)\n"
      ],
      "metadata": {
        "colab": {
          "base_uri": "https://localhost:8080/"
        },
        "id": "sDS5wwHvy5nv",
        "outputId": "04a7c641-1f0f-44ba-ed7b-6b867f11127c"
      },
      "execution_count": 7,
      "outputs": [
        {
          "output_type": "stream",
          "name": "stdout",
          "text": [
            "Enter first number: 3\n",
            "Enter second number: 4\n",
            "Addition: 7.0\n",
            "Subtraction: -1.0\n",
            "Multiplication: 12.0\n",
            "Division: 0.75\n"
          ]
        }
      ]
    },
    {
      "cell_type": "code",
      "source": [
        "#8.Write a program to demonstrate the use of logical operators\n",
        "a = 5\n",
        "b = 10\n",
        "\n",
        "print(a > 3 and b < 15)   # True\n",
        "print(a < 3 or b < 15)    # True\n",
        "print(not (a == b))       # True\n"
      ],
      "metadata": {
        "colab": {
          "base_uri": "https://localhost:8080/"
        },
        "id": "f9CzxlmFzFLq",
        "outputId": "47736c91-d119-4981-bfb4-c496aa7a065b"
      },
      "execution_count": 8,
      "outputs": [
        {
          "output_type": "stream",
          "name": "stdout",
          "text": [
            "True\n",
            "True\n",
            "True\n"
          ]
        }
      ]
    },
    {
      "cell_type": "code",
      "source": [
        "#9. Write a Python program to convert user input from string to integer, float, and boolean types\n",
        "user_input = input(\"Enter something: \")\n",
        "\n",
        "int_val = int(user_input)\n",
        "float_val = float(user_input)\n",
        "bool_val = bool(user_input)\n",
        "\n",
        "print(\"Integer:\", int_val)\n",
        "print(\"Float:\", float_val)\n",
        "print(\"Boolean:\", bool_val)\n"
      ],
      "metadata": {
        "colab": {
          "base_uri": "https://localhost:8080/"
        },
        "id": "5ibMwftozQot",
        "outputId": "bc97b307-96ff-4895-8e29-9781d7e5fa35"
      },
      "execution_count": 11,
      "outputs": [
        {
          "output_type": "stream",
          "name": "stdout",
          "text": [
            "Enter something: 123\n",
            "Integer: 123\n",
            "Float: 123.0\n",
            "Boolean: True\n"
          ]
        }
      ]
    },
    {
      "cell_type": "code",
      "source": [
        "#10.Write code to demonstrate type casting with list elements\n",
        "str_list = ['1', '2', '3']\n",
        "int_list = [int(x) for x in str_list]\n",
        "print(\"Original list:\", str_list)\n",
        "print(\"Converted to integers:\", int_list)\n"
      ],
      "metadata": {
        "colab": {
          "base_uri": "https://localhost:8080/"
        },
        "id": "ltJcesPHzbsA",
        "outputId": "aab8cf47-b187-4c0f-d35a-4e71406d8ae7"
      },
      "execution_count": 12,
      "outputs": [
        {
          "output_type": "stream",
          "name": "stdout",
          "text": [
            "Original list: ['1', '2', '3']\n",
            "Converted to integers: [1, 2, 3]\n"
          ]
        }
      ]
    },
    {
      "cell_type": "code",
      "source": [
        "#11. Write a program that checks if a number is positive, negative, or zero.\n",
        "num = float(input(\"Enter a number: \"))\n",
        "\n",
        "if num > 0:\n",
        "    print(\"Positive\")\n",
        "elif num < 0:\n",
        "    print(\"Negative\")\n",
        "else:\n",
        "    print(\"Zero\")\n"
      ],
      "metadata": {
        "colab": {
          "base_uri": "https://localhost:8080/"
        },
        "id": "u5uTnudYzhjz",
        "outputId": "c91bda27-a8af-48f3-c925-288bb03b9080"
      },
      "execution_count": 13,
      "outputs": [
        {
          "output_type": "stream",
          "name": "stdout",
          "text": [
            "Enter a number: 66\n",
            "Positive\n"
          ]
        }
      ]
    },
    {
      "cell_type": "code",
      "source": [
        "#12.Write a for loop to print numbers from 1 to 10\n",
        "for i in range(1, 11):\n",
        "    print(i)\n"
      ],
      "metadata": {
        "colab": {
          "base_uri": "https://localhost:8080/"
        },
        "id": "M4DREImVznEQ",
        "outputId": "c24bcaa8-3643-4c3e-c8ce-b541ce002194"
      },
      "execution_count": 14,
      "outputs": [
        {
          "output_type": "stream",
          "name": "stdout",
          "text": [
            "1\n",
            "2\n",
            "3\n",
            "4\n",
            "5\n",
            "6\n",
            "7\n",
            "8\n",
            "9\n",
            "10\n"
          ]
        }
      ]
    },
    {
      "cell_type": "code",
      "source": [
        "#13.Write a Python program to find the sum of all even numbers between 1 and 50.\n",
        "even_sum = sum(i for i in range(1, 51) if i % 2 == 0)\n",
        "print(\"Sum of even numbers from 1 to 50:\", even_sum)\n"
      ],
      "metadata": {
        "colab": {
          "base_uri": "https://localhost:8080/"
        },
        "id": "IX05i0dbzrU5",
        "outputId": "a8ea0222-3cc2-4538-a8e6-bbad0940af9a"
      },
      "execution_count": 15,
      "outputs": [
        {
          "output_type": "stream",
          "name": "stdout",
          "text": [
            "Sum of even numbers from 1 to 50: 650\n"
          ]
        }
      ]
    },
    {
      "cell_type": "code",
      "source": [
        "#14. Write a program to reverse a string using a while loop.\n",
        "text = input(\"Enter a string: \")\n",
        "reversed_text = \"\"\n",
        "i = len(text) - 1\n",
        "\n",
        "while i >= 0:\n",
        "    reversed_text += text[i]\n",
        "    i -= 1\n",
        "\n",
        "print(\"Reversed string:\", reversed_text)\n"
      ],
      "metadata": {
        "colab": {
          "base_uri": "https://localhost:8080/"
        },
        "id": "Q9JHxYdEzu7a",
        "outputId": "1b5a4943-b423-4130-b1e3-51091a8f165b"
      },
      "execution_count": 16,
      "outputs": [
        {
          "output_type": "stream",
          "name": "stdout",
          "text": [
            "Enter a string: abcde\n",
            "Reversed string: edcba\n"
          ]
        }
      ]
    },
    {
      "cell_type": "code",
      "source": [
        "#15. Write a Python program to calculate the factorial of a number provided by the user using a while loop\n",
        "num = int(input(\"Enter a number: \"))\n",
        "factorial = 1\n",
        "i = 1\n",
        "\n",
        "while i <= num:\n",
        "    factorial *= i\n",
        "    i += 1\n",
        "\n",
        "print(\"Factorial of\", num, \"is\", factorial)\n"
      ],
      "metadata": {
        "colab": {
          "base_uri": "https://localhost:8080/"
        },
        "id": "cqsdZ0M4zz9V",
        "outputId": "d27d9823-b535-440c-a7a9-1aa01da4a074"
      },
      "execution_count": 18,
      "outputs": [
        {
          "output_type": "stream",
          "name": "stdout",
          "text": [
            "Enter a number: 4\n",
            "Factorial of 4 is 24\n"
          ]
        }
      ]
    }
  ]
}